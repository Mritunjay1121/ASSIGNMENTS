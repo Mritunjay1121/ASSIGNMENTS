{
 "cells": [
  {
   "cell_type": "raw",
   "id": "bf4ab82e",
   "metadata": {},
   "source": [
    "1.When we have to do a particular task we need to write some code explicitly every time we are doing this task.But if a function has the code written of this task then this function could be called every time to do this particular task without writing the code again and again but by just calling a particular function . So functions reduces our work and enhances reusabilty.\n"
   ]
  },
  {
   "cell_type": "raw",
   "id": "c8627742",
   "metadata": {},
   "source": [
    "2.When its called\n"
   ]
  },
  {
   "cell_type": "raw",
   "id": "0cda1f5a",
   "metadata": {},
   "source": [
    "3. A statement that creates a new function is Eg: def function_name(parameter 1,...parameter n):\n"
   ]
  },
  {
   "cell_type": "raw",
   "id": "185e0cb3",
   "metadata": {},
   "source": [
    "4. Function is where we define/write the code of operations of a function which it will do . Function call is just like telling a function to be get executed to do the operation. In function call we might or might not pass parameters on which function do operations.\n"
   ]
  },
  {
   "cell_type": "raw",
   "id": "68a3dd48",
   "metadata": {},
   "source": [
    "5. There's only one global Python scope per program execution. A variable defined globally can be accesed anywhere in the script. \n",
    "\n",
    "Variables defined inside the function are known as Local variable and they can only be accesed inside the function"
   ]
  },
  {
   "cell_type": "raw",
   "id": "6f1319b3",
   "metadata": {},
   "source": [
    "6. A local variable becomes undefined after the function call completes. The local variable can be used outside the function any time after the function call completes."
   ]
  },
  {
   "cell_type": "raw",
   "id": "fc84c5e9",
   "metadata": {},
   "source": [
    "7. \"return\" is used in a function to return the final evaluated result of a function. Its main work is to terminate the function which was being running and return what is written beside it. The code written after 'return' statement does not execute. If return has nothing written beside it , it return None and just terminates the function running.\n",
    "\n",
    "Yes, it is possible to have a return value in an expression.\n"
   ]
  },
  {
   "cell_type": "raw",
   "id": "370f6696",
   "metadata": {},
   "source": [
    "8. It returns None"
   ]
  },
  {
   "cell_type": "raw",
   "id": "6ce4e71d",
   "metadata": {},
   "source": [
    "9. By writing global just before the variable inside the function. That is by writing global keyword before the variable"
   ]
  },
  {
   "cell_type": "raw",
   "id": "a75eff96",
   "metadata": {},
   "source": [
    "10.NoneType"
   ]
  },
  {
   "cell_type": "raw",
   "id": "d5d1f4ab",
   "metadata": {},
   "source": [
    "11.It imports a module named areallyourpetsnamederic."
   ]
  },
  {
   "cell_type": "code",
   "execution_count": null,
   "id": "875193ba",
   "metadata": {},
   "outputs": [],
   "source": [
    "12.spam. bacon()"
   ]
  },
  {
   "cell_type": "raw",
   "id": "022cf57c",
   "metadata": {},
   "source": [
    "13.We write our program using error handling techniques like try and except to not let program to crash even if program encounters an error"
   ]
  },
  {
   "cell_type": "raw",
   "id": "91544178",
   "metadata": {},
   "source": [
    "14. try and except is used to handle errors while writing our code so that when an error occurs the program doesnt crash.\n",
    "try clause block -contains the code which we try to run and see whether it is executable or nit. That whether it runs perfectly or an error occurs in it while running.\n",
    "If an error occurs in try clause block then the program execution call goes to xcept block and runs it. In this way if an error occurs in try block , except block is run thus neglecting the program to crash"
   ]
  }
 ],
 "metadata": {
  "kernelspec": {
   "display_name": "Python 3 (ipykernel)",
   "language": "python",
   "name": "python3"
  },
  "language_info": {
   "codemirror_mode": {
    "name": "ipython",
    "version": 3
   },
   "file_extension": ".py",
   "mimetype": "text/x-python",
   "name": "python",
   "nbconvert_exporter": "python",
   "pygments_lexer": "ipython3",
   "version": "3.9.7"
  }
 },
 "nbformat": 4,
 "nbformat_minor": 5
}
