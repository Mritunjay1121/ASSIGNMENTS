{
 "cells": [
  {
   "cell_type": "raw",
   "id": "eda5c2c9",
   "metadata": {},
   "source": [
    "1. Escape characters are used in a string when a character to be used inside the will cause an error. Eg:"
   ]
  },
  {
   "cell_type": "code",
   "execution_count": 9,
   "id": "bafe313e",
   "metadata": {},
   "outputs": [
    {
     "name": "stdout",
     "output_type": "stream",
     "text": [
      "He told: \"I want to walk around\" \n"
     ]
    }
   ],
   "source": [
    "strr=\"He told: \\\"I want to walk around\\\" \"\n",
    "print(strr)"
   ]
  },
  {
   "cell_type": "raw",
   "id": "3f98ae54",
   "metadata": {},
   "source": [
    "Here full string was given using double quotation but inside this string there is also another string in double quotation so this will cause an error so we used backslash '\\' in 2 places to specify this string inside the main string"
   ]
  },
  {
   "cell_type": "raw",
   "id": "74eb49a0",
   "metadata": {},
   "source": [
    "2 . n stand for new line. If we use \\n inside a string then all the characters after this '\\n' will come in newline\n",
    "    t stand for tab. If we use \\t inside a string then all the characters after this '\\t' will be one tab forward\n",
    "    "
   ]
  },
  {
   "cell_type": "raw",
   "id": "78cdc22d",
   "metadata": {},
   "source": [
    "3.To include a backslash inside a string we must given two backslashes consecutively at the place 1 backslash is to be included.\n"
   ]
  },
  {
   "cell_type": "code",
   "execution_count": 11,
   "id": "80eb9f5d",
   "metadata": {},
   "outputs": [
    {
     "name": "stdout",
     "output_type": "stream",
     "text": [
      "ab\\c\n"
     ]
    }
   ],
   "source": [
    "abc=\"ab\\\\c\"\n",
    "print(abc)\n"
   ]
  },
  {
   "cell_type": "raw",
   "id": "89ebdc90",
   "metadata": {},
   "source": [
    "4. Since we have used a single quote inside the main string and the main string is given by double quotes so there will be no error. "
   ]
  },
  {
   "cell_type": "raw",
   "id": "574efb23",
   "metadata": {},
   "source": [
    "5. We can use multiline strings"
   ]
  },
  {
   "cell_type": "code",
   "execution_count": 18,
   "id": "3eda41c0",
   "metadata": {},
   "outputs": [
    {
     "data": {
      "text/plain": [
       "'e'"
      ]
     },
     "execution_count": 18,
     "metadata": {},
     "output_type": "execute_result"
    }
   ],
   "source": [
    "# 6.\n",
    "'Hello, world!'[1]"
   ]
  },
  {
   "cell_type": "code",
   "execution_count": 19,
   "id": "3b0190f8",
   "metadata": {},
   "outputs": [
    {
     "data": {
      "text/plain": [
       "'Hello'"
      ]
     },
     "execution_count": 19,
     "metadata": {},
     "output_type": "execute_result"
    }
   ],
   "source": [
    "'Hello, world!'[0:5]"
   ]
  },
  {
   "cell_type": "code",
   "execution_count": 20,
   "id": "d38c9d67",
   "metadata": {},
   "outputs": [
    {
     "data": {
      "text/plain": [
       "'Hello'"
      ]
     },
     "execution_count": 20,
     "metadata": {},
     "output_type": "execute_result"
    }
   ],
   "source": [
    "'Hello, world!'[:5]"
   ]
  },
  {
   "cell_type": "code",
   "execution_count": 21,
   "id": "c0969692",
   "metadata": {},
   "outputs": [
    {
     "data": {
      "text/plain": [
       "'lo, world!'"
      ]
     },
     "execution_count": 21,
     "metadata": {},
     "output_type": "execute_result"
    }
   ],
   "source": [
    "'Hello, world!'[3:]"
   ]
  },
  {
   "cell_type": "code",
   "execution_count": 24,
   "id": "3a44582d",
   "metadata": {},
   "outputs": [
    {
     "data": {
      "text/plain": [
       "'HELLO'"
      ]
     },
     "execution_count": 24,
     "metadata": {},
     "output_type": "execute_result"
    }
   ],
   "source": [
    "# 7.\n",
    "\n",
    "'Hello'.upper()"
   ]
  },
  {
   "cell_type": "code",
   "execution_count": 25,
   "id": "65badb60",
   "metadata": {},
   "outputs": [
    {
     "data": {
      "text/plain": [
       "True"
      ]
     },
     "execution_count": 25,
     "metadata": {},
     "output_type": "execute_result"
    }
   ],
   "source": [
    "'Hello'.upper().isupper()"
   ]
  },
  {
   "cell_type": "code",
   "execution_count": 26,
   "id": "d049741f",
   "metadata": {},
   "outputs": [
    {
     "data": {
      "text/plain": [
       "'hello'"
      ]
     },
     "execution_count": 26,
     "metadata": {},
     "output_type": "execute_result"
    }
   ],
   "source": [
    "'Hello'.upper().lower()"
   ]
  },
  {
   "cell_type": "code",
   "execution_count": 29,
   "id": "c8774060",
   "metadata": {},
   "outputs": [
    {
     "data": {
      "text/plain": [
       "['Remember,remember,the', 'fifth', 'of', 'July.']"
      ]
     },
     "execution_count": 29,
     "metadata": {},
     "output_type": "execute_result"
    }
   ],
   "source": [
    "# 8. \n",
    "'Remember,remember,the fifth of July.'.split()"
   ]
  },
  {
   "cell_type": "code",
   "execution_count": 33,
   "id": "779ab77a",
   "metadata": {},
   "outputs": [
    {
     "data": {
      "text/plain": [
       "'There-can-only-one.'"
      ]
     },
     "execution_count": 33,
     "metadata": {},
     "output_type": "execute_result"
    }
   ],
   "source": [
    "'-'.join('There can only one.'.split())"
   ]
  },
  {
   "cell_type": "raw",
   "id": "19f634fd",
   "metadata": {},
   "source": [
    "9. rjust(),ljust() and center() string methods, respectively."
   ]
  },
  {
   "cell_type": "raw",
   "id": "af32d18f",
   "metadata": {},
   "source": [
    "10. From start lstrip()\n",
    "    From end rstrip()\n",
    "    "
   ]
  },
  {
   "cell_type": "code",
   "execution_count": null,
   "id": "cb3fe95a",
   "metadata": {},
   "outputs": [],
   "source": []
  },
  {
   "cell_type": "code",
   "execution_count": null,
   "id": "e8893787",
   "metadata": {},
   "outputs": [],
   "source": []
  }
 ],
 "metadata": {
  "kernelspec": {
   "display_name": "Python 3 (ipykernel)",
   "language": "python",
   "name": "python3"
  },
  "language_info": {
   "codemirror_mode": {
    "name": "ipython",
    "version": 3
   },
   "file_extension": ".py",
   "mimetype": "text/x-python",
   "name": "python",
   "nbconvert_exporter": "python",
   "pygments_lexer": "ipython3",
   "version": "3.9.7"
  }
 },
 "nbformat": 4,
 "nbformat_minor": 5
}
