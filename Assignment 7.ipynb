{
 "cells": [
  {
   "cell_type": "raw",
   "id": "27724427",
   "metadata": {},
   "source": [
    "1. re.compile()"
   ]
  },
  {
   "cell_type": "raw",
   "id": "b1502269",
   "metadata": {},
   "source": [
    "2. Raw string notation keeps regular expressions confusion-free. Without it, every backslash ('\\') in a regular expression would have to be prefixed with another one to escape it."
   ]
  },
  {
   "cell_type": "raw",
   "id": "db7f9430",
   "metadata": {},
   "source": [
    "3. It returns a match object if found.\n"
   ]
  },
  {
   "cell_type": "raw",
   "id": "c2f0cad2",
   "metadata": {},
   "source": [
    "4. By using group() function"
   ]
  },
  {
   "cell_type": "raw",
   "id": "9c44aaa0",
   "metadata": {},
   "source": [
    "5. Group 0 is the entire match, group 1 covers the first set of parentheses, and group 2 covers the second set of parentheses."
   ]
  },
  {
   "cell_type": "raw",
   "id": "f867a612",
   "metadata": {},
   "source": [
    "6. Periods and parentheses can be escaped with a backslash: \\., \\(, and \\)."
   ]
  },
  {
   "cell_type": "raw",
   "id": "f625d734",
   "metadata": {},
   "source": [
    "7. If the regex has no groups, a list of strings is returned. If the regex has groups, a list of tuples of strings is returned."
   ]
  },
  {
   "cell_type": "raw",
   "id": "59f22b33",
   "metadata": {},
   "source": [
    "8. It signifies matching \"either, or\" between two groups."
   ]
  },
  {
   "cell_type": "raw",
   "id": "337e0bce",
   "metadata": {},
   "source": [
    "9. The ? character can either mean \"match zero or one of the preceding group\" or be used to signify nongreedy matching."
   ]
  },
  {
   "cell_type": "raw",
   "id": "1ff02033",
   "metadata": {},
   "source": [
    "10.'+' matches one or more. \n",
    "   '*' matches zero or more."
   ]
  },
  {
   "cell_type": "raw",
   "id": "566de422",
   "metadata": {},
   "source": [
    "11. The {4} matches exactly three instances of the preceding group. The {4,5} matches between three and five instances."
   ]
  },
  {
   "cell_type": "raw",
   "id": "1eddc63b",
   "metadata": {},
   "source": [
    "12. \\d, \\w, and \\s shorthand character classes match a single digit, word, or space character."
   ]
  },
  {
   "cell_type": "raw",
   "id": "995631a5",
   "metadata": {},
   "source": [
    "13. The \\D, \\W, and \\S shorthand character classes match a single character that is not a digit, word, or space character, respectively."
   ]
  },
  {
   "cell_type": "raw",
   "id": "56b1740a",
   "metadata": {},
   "source": [
    "14. .*? is non-greedy. * will match nothing."
   ]
  },
  {
   "cell_type": "raw",
   "id": "e7586027",
   "metadata": {},
   "source": [
    "15. Either [0-9a-z] or [a-z0-9]"
   ]
  },
  {
   "cell_type": "raw",
   "id": "ad113f92",
   "metadata": {},
   "source": [
    "16. By passing re.I or re.IGNORECASE as the second argument to re.compile() will make the matching case insensitive."
   ]
  },
  {
   "cell_type": "raw",
   "id": "b2f0207d",
   "metadata": {},
   "source": [
    "17. The '.' character normally matches any character except the newline character. If re.DOTALL is passed as the second argument to re.compile(), then the dot will also match newline characters."
   ]
  },
  {
   "cell_type": "raw",
   "id": "308147d7",
   "metadata": {},
   "source": [
    "18. 'X drummers, X pipers, five rings, X hens'"
   ]
  },
  {
   "cell_type": "raw",
   "id": "911f88b6",
   "metadata": {},
   "source": [
    "19. The re.VERBOSE argument allows you to add whitespace and comments to the string passed to re.compile()."
   ]
  },
  {
   "cell_type": "raw",
   "id": "5dde96bd",
   "metadata": {},
   "source": [
    "20. re.compile(r'^\\d{1,3}(,\\d{3})*$') will create this regex, but other regex strings can produce a similar regular expression."
   ]
  },
  {
   "cell_type": "raw",
   "id": "01db5411",
   "metadata": {},
   "source": [
    "21. re.compile(r'[A-Z][a-z]*\\sWatanabe')"
   ]
  },
  {
   "cell_type": "raw",
   "id": "87efac02",
   "metadata": {},
   "source": [
    "22. re.compile(r'(Alice|Bob|Carol)\\s(eats|pets|throws)\\s(apples|cats|baseballs)\\.', re.IGNORECASE)"
   ]
  },
  {
   "cell_type": "code",
   "execution_count": null,
   "id": "a0791996",
   "metadata": {},
   "outputs": [],
   "source": []
  }
 ],
 "metadata": {
  "kernelspec": {
   "display_name": "Python 3 (ipykernel)",
   "language": "python",
   "name": "python3"
  },
  "language_info": {
   "codemirror_mode": {
    "name": "ipython",
    "version": 3
   },
   "file_extension": ".py",
   "mimetype": "text/x-python",
   "name": "python",
   "nbconvert_exporter": "python",
   "pygments_lexer": "ipython3",
   "version": "3.9.7"
  }
 },
 "nbformat": 4,
 "nbformat_minor": 5
}
