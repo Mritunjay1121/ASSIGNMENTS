{
 "cells": [
  {
   "cell_type": "raw",
   "id": "2d47ca7a",
   "metadata": {},
   "source": [
    "1. PyInputPlus is not a part of the Python Standard Library, so you must install it separately using Pip"
   ]
  },
  {
   "cell_type": "raw",
   "id": "ec1d32ac",
   "metadata": {},
   "source": [
    "2. Since PyInputPlus is larger name so we create it alias as 'pypi'. Shorter name when calling the module's functions becomes easier"
   ]
  },
  {
   "cell_type": "raw",
   "id": "7883ef65",
   "metadata": {},
   "source": [
    "3. inputInt() : Accepts an integer value, and returns int value\n",
    "   inputFloat() : Accepts integer/floating point value and returns float value"
   ]
  },
  {
   "cell_type": "raw",
   "id": "898be7ec",
   "metadata": {},
   "source": [
    "4.  In the inputint function we can set the min = 0 and max = 99.\n"
   ]
  },
  {
   "cell_type": "raw",
   "id": "26a1432f",
   "metadata": {},
   "source": [
    "5. They take a list of regular expression strings to determine what the PyInputPlus function will accept or reject as valid input."
   ]
  },
  {
   "cell_type": "raw",
   "id": "c94107fc",
   "metadata": {},
   "source": [
    "6. It will throw RetryLimitException exception."
   ]
  },
  {
   "cell_type": "raw",
   "id": "962b6827",
   "metadata": {},
   "source": [
    "7. The function returns the default value i.e. \"hello\" instead of raising an exception"
   ]
  },
  {
   "cell_type": "code",
   "execution_count": null,
   "id": "cf366bd4",
   "metadata": {},
   "outputs": [],
   "source": []
  }
 ],
 "metadata": {
  "kernelspec": {
   "display_name": "Python 3 (ipykernel)",
   "language": "python",
   "name": "python3"
  },
  "language_info": {
   "codemirror_mode": {
    "name": "ipython",
    "version": 3
   },
   "file_extension": ".py",
   "mimetype": "text/x-python",
   "name": "python",
   "nbconvert_exporter": "python",
   "pygments_lexer": "ipython3",
   "version": "3.9.7"
  }
 },
 "nbformat": 4,
 "nbformat_minor": 5
}
