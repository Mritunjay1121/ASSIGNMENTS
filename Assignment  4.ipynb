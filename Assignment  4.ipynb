{
 "cells": [
  {
   "cell_type": "code",
   "execution_count": 1,
   "id": "1be793dc",
   "metadata": {},
   "outputs": [
    {
     "ename": "SyntaxError",
     "evalue": "invalid syntax (Temp/ipykernel_15900/1124011375.py, line 1)",
     "output_type": "error",
     "traceback": [
      "\u001b[1;36m  File \u001b[1;32m\"C:\\Users\\mritu\\AppData\\Local\\Temp/ipykernel_15900/1124011375.py\"\u001b[1;36m, line \u001b[1;32m1\u001b[0m\n\u001b[1;33m    1. It is an empty list\u001b[0m\n\u001b[1;37m       ^\u001b[0m\n\u001b[1;31mSyntaxError\u001b[0m\u001b[1;31m:\u001b[0m invalid syntax\n"
     ]
    }
   ],
   "source": [
    "1. It is an empty list"
   ]
  },
  {
   "cell_type": "raw",
   "id": "7aaf733c",
   "metadata": {},
   "source": [
    "2. Lets take an example"
   ]
  },
  {
   "cell_type": "code",
   "execution_count": 2,
   "id": "f24b2d96",
   "metadata": {},
   "outputs": [],
   "source": [
    "spam = [2, 4, 6, 8, 10]\n",
    "spam[2]='hello'\n"
   ]
  },
  {
   "cell_type": "code",
   "execution_count": 3,
   "id": "031d995e",
   "metadata": {},
   "outputs": [],
   "source": [
    "spam = ['a','b','c','d']\n"
   ]
  },
  {
   "cell_type": "raw",
   "id": "4760b07f",
   "metadata": {},
   "source": [
    "3. It gives 'd'"
   ]
  },
  {
   "cell_type": "code",
   "execution_count": 5,
   "id": "36efdb23",
   "metadata": {},
   "outputs": [
    {
     "ename": "SyntaxError",
     "evalue": "invalid syntax (Temp/ipykernel_15900/2597642576.py, line 1)",
     "output_type": "error",
     "traceback": [
      "\u001b[1;36m  File \u001b[1;32m\"C:\\Users\\mritu\\AppData\\Local\\Temp/ipykernel_15900/2597642576.py\"\u001b[1;36m, line \u001b[1;32m1\u001b[0m\n\u001b[1;33m    4. It gives 'd'\u001b[0m\n\u001b[1;37m       ^\u001b[0m\n\u001b[1;31mSyntaxError\u001b[0m\u001b[1;31m:\u001b[0m invalid syntax\n"
     ]
    }
   ],
   "source": [
    "4. It gives 'd'"
   ]
  },
  {
   "cell_type": "raw",
   "id": "ed9258e1",
   "metadata": {},
   "source": [
    "5. It gives ['a', 'b']"
   ]
  },
  {
   "cell_type": "code",
   "execution_count": 43,
   "id": "6c59e53e",
   "metadata": {},
   "outputs": [],
   "source": [
    "bacon = [3.14,'cat', 11,'cat', True]"
   ]
  },
  {
   "cell_type": "code",
   "execution_count": 44,
   "id": "ef6789a2",
   "metadata": {},
   "outputs": [
    {
     "ename": "SyntaxError",
     "evalue": "invalid syntax (Temp/ipykernel_15900/1511841229.py, line 1)",
     "output_type": "error",
     "traceback": [
      "\u001b[1;36m  File \u001b[1;32m\"C:\\Users\\mritu\\AppData\\Local\\Temp/ipykernel_15900/1511841229.py\"\u001b[1;36m, line \u001b[1;32m1\u001b[0m\n\u001b[1;33m    6. It gives 1\u001b[0m\n\u001b[1;37m       ^\u001b[0m\n\u001b[1;31mSyntaxError\u001b[0m\u001b[1;31m:\u001b[0m invalid syntax\n"
     ]
    }
   ],
   "source": [
    "6. It gives 1"
   ]
  },
  {
   "cell_type": "code",
   "execution_count": 45,
   "id": "9a39913d",
   "metadata": {},
   "outputs": [
    {
     "data": {
      "text/plain": [
       "[3.14, 'cat', 11, 'cat', True, 99]"
      ]
     },
     "execution_count": 45,
     "metadata": {},
     "output_type": "execute_result"
    }
   ],
   "source": [
    "bacon.append(99)\n",
    "bacon"
   ]
  },
  {
   "cell_type": "raw",
   "id": "c4a2eb51",
   "metadata": {},
   "source": [
    "7. [3.14, 'cat', 11, 'cat', True, 99]"
   ]
  },
  {
   "cell_type": "code",
   "execution_count": 46,
   "id": "254493c8",
   "metadata": {},
   "outputs": [
    {
     "data": {
      "text/plain": [
       "[3.14, 11, 'cat', True, 99]"
      ]
     },
     "execution_count": 46,
     "metadata": {},
     "output_type": "execute_result"
    }
   ],
   "source": [
    "bacon.remove('cat')\n",
    "bacon"
   ]
  },
  {
   "cell_type": "raw",
   "id": "91aa9ec8",
   "metadata": {},
   "source": [
    "8. [3.14, 11, 'cat', True, 99]"
   ]
  },
  {
   "cell_type": "raw",
   "id": "3aec89a8",
   "metadata": {},
   "source": [
    "9.List concatenation is do to merge two lists. It is defined by '+' .It returns a new list as a result.\n",
    "Eg: [1,2,3]+[4,5] will give [1,2,3,4,5]\n",
    "\n",
    "List replication is done by '*' operator to just add n time the same list and return the new list.Eg \n"
   ]
  },
  {
   "cell_type": "code",
   "execution_count": 47,
   "id": "d563ac6d",
   "metadata": {},
   "outputs": [
    {
     "data": {
      "text/plain": [
       "[1, 2, 3, 1, 2, 3, 1, 2, 3]"
      ]
     },
     "execution_count": 47,
     "metadata": {},
     "output_type": "execute_result"
    }
   ],
   "source": [
    "list1 = [1, 2, 3]\n",
    "list2 = list1 * 3\n",
    "list2"
   ]
  },
  {
   "cell_type": "raw",
   "id": "5c060c37",
   "metadata": {},
   "source": [
    "10. append adds an element to the end of the list.\n",
    "\n",
    "Eg:"
   ]
  },
  {
   "cell_type": "code",
   "execution_count": 49,
   "id": "b9d03589",
   "metadata": {},
   "outputs": [
    {
     "data": {
      "text/plain": [
       "[1, 2, 3, 121]"
      ]
     },
     "execution_count": 49,
     "metadata": {},
     "output_type": "execute_result"
    }
   ],
   "source": [
    "list1.append(121)\n",
    "list1"
   ]
  },
  {
   "cell_type": "raw",
   "id": "a7f1fe53",
   "metadata": {},
   "source": [
    "\n",
    "But insert can add element at an specific index.Thus increasing the size of list.\n",
    "\n",
    "list1.insert(index,element)"
   ]
  },
  {
   "cell_type": "code",
   "execution_count": 50,
   "id": "b418880f",
   "metadata": {},
   "outputs": [],
   "source": [
    "list1.insert(0,-1)"
   ]
  },
  {
   "cell_type": "code",
   "execution_count": 51,
   "id": "bde57965",
   "metadata": {},
   "outputs": [
    {
     "data": {
      "text/plain": [
       "[-1, 1, 2, 3, 121]"
      ]
     },
     "execution_count": 51,
     "metadata": {},
     "output_type": "execute_result"
    }
   ],
   "source": [
    "list1"
   ]
  },
  {
   "cell_type": "code",
   "execution_count": 52,
   "id": "d1ce72eb",
   "metadata": {},
   "outputs": [
    {
     "ename": "SyntaxError",
     "evalue": "invalid syntax (Temp/ipykernel_15900/1218206154.py, line 1)",
     "output_type": "error",
     "traceback": [
      "\u001b[1;36m  File \u001b[1;32m\"C:\\Users\\mritu\\AppData\\Local\\Temp/ipykernel_15900/1218206154.py\"\u001b[1;36m, line \u001b[1;32m1\u001b[0m\n\u001b[1;33m    11. remove()  and pop()\u001b[0m\n\u001b[1;37m        ^\u001b[0m\n\u001b[1;31mSyntaxError\u001b[0m\u001b[1;31m:\u001b[0m invalid syntax\n"
     ]
    }
   ],
   "source": [
    "11. remove() and del\n",
    "\n"
   ]
  },
  {
   "cell_type": "code",
   "execution_count": null,
   "id": "b3051352",
   "metadata": {},
   "outputs": [],
   "source": [
    "12. Both lists and strings can be passed to len(), have indexes and slices, be used in for loops, be concatenated or replicated, and be used with the in and not in operators."
   ]
  },
  {
   "cell_type": "code",
   "execution_count": 31,
   "id": "bc99d2c1",
   "metadata": {},
   "outputs": [],
   "source": [
    "13. Tuples are immutable type of collection of items and can store any type of datatypes. Represented by ()\n",
    "\n",
    "Lists are mutable type of collection of items and also can store any type of datatypes.Represented by []\n"
   ]
  },
  {
   "cell_type": "code",
   "execution_count": 37,
   "id": "53bb765a",
   "metadata": {},
   "outputs": [],
   "source": [
    "14.tu=(42,)\n"
   ]
  },
  {
   "cell_type": "code",
   "execution_count": 56,
   "id": "a8666867",
   "metadata": {},
   "outputs": [
    {
     "ename": "SyntaxError",
     "evalue": "invalid syntax (Temp/ipykernel_15900/180053225.py, line 1)",
     "output_type": "error",
     "traceback": [
      "\u001b[1;36m  File \u001b[1;32m\"C:\\Users\\mritu\\AppData\\Local\\Temp/ipykernel_15900/180053225.py\"\u001b[1;36m, line \u001b[1;32m1\u001b[0m\n\u001b[1;33m    15. Using tuple() and list() respectively\u001b[0m\n\u001b[1;37m        ^\u001b[0m\n\u001b[1;31mSyntaxError\u001b[0m\u001b[1;31m:\u001b[0m invalid syntax\n"
     ]
    }
   ],
   "source": [
    "15. Using tuple() and list() respectively"
   ]
  },
  {
   "cell_type": "code",
   "execution_count": 57,
   "id": "33847a46",
   "metadata": {},
   "outputs": [
    {
     "ename": "SyntaxError",
     "evalue": "invalid syntax (Temp/ipykernel_15900/2373752947.py, line 1)",
     "output_type": "error",
     "traceback": [
      "\u001b[1;36m  File \u001b[1;32m\"C:\\Users\\mritu\\AppData\\Local\\Temp/ipykernel_15900/2373752947.py\"\u001b[1;36m, line \u001b[1;32m1\u001b[0m\n\u001b[1;33m    16. References of list values\u001b[0m\n\u001b[1;37m        ^\u001b[0m\n\u001b[1;31mSyntaxError\u001b[0m\u001b[1;31m:\u001b[0m invalid syntax\n"
     ]
    }
   ],
   "source": [
    "16. References of list values"
   ]
  },
  {
   "cell_type": "code",
   "execution_count": 54,
   "id": "9f14efb5",
   "metadata": {},
   "outputs": [
    {
     "data": {
      "text/plain": [
       "2"
      ]
     },
     "execution_count": 54,
     "metadata": {},
     "output_type": "execute_result"
    }
   ],
   "source": [
    "17. copy.copy() is shallow copy . It just creates new reference objects and references it to the child objects found in the original list. So when changes are done in either of the list new or old , the actions are reflected in other list object also.\n",
    "\n",
    "copy.deepcopy()- It  first construct a new collection object and then recursively populating it with copies of the child objects found in the original list. It means that any changes made to a copy of list do not reflect in the original list."
   ]
  },
  {
   "cell_type": "code",
   "execution_count": 55,
   "id": "4866e6fd",
   "metadata": {},
   "outputs": [
    {
     "data": {
      "text/plain": [
       "[1, 3]"
      ]
     },
     "execution_count": 55,
     "metadata": {},
     "output_type": "execute_result"
    }
   ],
   "source": []
  },
  {
   "cell_type": "code",
   "execution_count": null,
   "id": "859134c3",
   "metadata": {},
   "outputs": [],
   "source": []
  }
 ],
 "metadata": {
  "kernelspec": {
   "display_name": "Python 3 (ipykernel)",
   "language": "python",
   "name": "python3"
  },
  "language_info": {
   "codemirror_mode": {
    "name": "ipython",
    "version": 3
   },
   "file_extension": ".py",
   "mimetype": "text/x-python",
   "name": "python",
   "nbconvert_exporter": "python",
   "pygments_lexer": "ipython3",
   "version": "3.9.7"
  }
 },
 "nbformat": 4,
 "nbformat_minor": 5
}
