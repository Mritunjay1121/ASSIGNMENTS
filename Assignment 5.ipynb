{
 "cells": [
  {
   "cell_type": "raw",
   "id": "f169f7f4",
   "metadata": {},
   "source": [
    "1. Here we will initialize an empty dictionary"
   ]
  },
  {
   "cell_type": "code",
   "execution_count": 1,
   "id": "a4ed9169",
   "metadata": {},
   "outputs": [
    {
     "data": {
      "text/plain": [
       "{}"
      ]
     },
     "execution_count": 1,
     "metadata": {},
     "output_type": "execute_result"
    }
   ],
   "source": [
    "mapp=dict()\n",
    "mapp"
   ]
  },
  {
   "cell_type": "code",
   "execution_count": 15,
   "id": "9657251d",
   "metadata": {},
   "outputs": [
    {
     "data": {
      "text/plain": [
       "{'foo': 42}"
      ]
     },
     "execution_count": 15,
     "metadata": {},
     "output_type": "execute_result"
    }
   ],
   "source": [
    "# 2.\n",
    "\n",
    "mapp['foo']=42\n",
    "mapp"
   ]
  },
  {
   "cell_type": "code",
   "execution_count": 4,
   "id": "e553a1e2",
   "metadata": {},
   "outputs": [],
   "source": [
    "# So value is {'foo': 42}"
   ]
  },
  {
   "cell_type": "raw",
   "id": "8b6e9150",
   "metadata": {},
   "source": [
    "3. (a).Dictionaries are used to store key,value pair while lists store only 1 element.\n",
    "   (b).Dictionaries uses hashing while searching for an key while lists uses iteration to search for          an element.\n",
    "   (c).The items stored in a dictionary are unordered, while the items in a list are ordered. "
   ]
  },
  {
   "cell_type": "raw",
   "id": "432c7a62",
   "metadata": {},
   "source": [
    "4. We gets a KeyError since 'foo' is not inside the dictionary as a key\n"
   ]
  },
  {
   "cell_type": "raw",
   "id": "be103993",
   "metadata": {},
   "source": [
    "5. Both the statements checks whether 'cat' exists in the spam dictionary as a key or not"
   ]
  },
  {
   "cell_type": "code",
   "execution_count": 10,
   "id": "6febc7fb",
   "metadata": {},
   "outputs": [
    {
     "data": {
      "text/plain": [
       "True"
      ]
     },
     "execution_count": 10,
     "metadata": {},
     "output_type": "execute_result"
    }
   ],
   "source": [
    "6. 'cat' in spam : checks whether 'cat' exists in spam as a key or not\n",
    "   'cat' in spam.values() : checks whether a key in spam has value 'cat' or not"
   ]
  },
  {
   "cell_type": "raw",
   "id": "07473740",
   "metadata": {},
   "source": [
    "7. spam.setdefault('color', 'black')"
   ]
  },
  {
   "cell_type": "raw",
   "id": "8158b717",
   "metadata": {},
   "source": [
    "8.We can pretty print the dictionary majorly using pprint module and json module.\n",
    "For that we must first import the module which we are using.\n",
    "\n",
    "Using pprint- pprint.pprint(spam)\n",
    "Using json -  print(json.dumps(spam))\n",
    "\n"
   ]
  },
  {
   "cell_type": "code",
   "execution_count": null,
   "id": "3743347f",
   "metadata": {},
   "outputs": [],
   "source": []
  },
  {
   "cell_type": "code",
   "execution_count": null,
   "id": "2291252e",
   "metadata": {},
   "outputs": [],
   "source": []
  },
  {
   "cell_type": "code",
   "execution_count": null,
   "id": "49af7f4b",
   "metadata": {},
   "outputs": [],
   "source": []
  }
 ],
 "metadata": {
  "kernelspec": {
   "display_name": "Python 3 (ipykernel)",
   "language": "python",
   "name": "python3"
  },
  "language_info": {
   "codemirror_mode": {
    "name": "ipython",
    "version": 3
   },
   "file_extension": ".py",
   "mimetype": "text/x-python",
   "name": "python",
   "nbconvert_exporter": "python",
   "pygments_lexer": "ipython3",
   "version": "3.9.7"
  }
 },
 "nbformat": 4,
 "nbformat_minor": 5
}
